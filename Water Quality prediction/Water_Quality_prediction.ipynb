{
  "nbformat": 4,
  "nbformat_minor": 0,
  "metadata": {
    "colab": {
      "provenance": []
    },
    "kernelspec": {
      "name": "python3",
      "display_name": "Python 3"
    },
    "language_info": {
      "name": "python"
    }
  },
  "cells": [
    {
      "cell_type": "code",
      "execution_count": null,
      "metadata": {
        "id": "4qO5-eimLzve"
      },
      "outputs": [],
      "source": [
        "import numpy as np\n",
        "import pandas as pd\n",
        "import matplotlib.pyplot as plt\n",
        "import seaborn as sns"
      ]
    },
    {
      "cell_type": "code",
      "source": [
        "import warnings\n",
        "warnings.filterwarnings('ignore')"
      ],
      "metadata": {
        "id": "7kRI0GPFlvqw"
      },
      "execution_count": null,
      "outputs": []
    },
    {
      "cell_type": "code",
      "source": [
        "df = pd.read_csv(\"/content/water_quality.csv\")"
      ],
      "metadata": {
        "id": "k0NccB28l1C-"
      },
      "execution_count": null,
      "outputs": []
    },
    {
      "cell_type": "markdown",
      "source": [
        "# Exploratory data analysis"
      ],
      "metadata": {
        "id": "fQNXRxMSrhxw"
      }
    },
    {
      "cell_type": "code",
      "source": [
        "df.head()"
      ],
      "metadata": {
        "id": "E2-k1CADl2ag"
      },
      "execution_count": null,
      "outputs": []
    },
    {
      "cell_type": "code",
      "source": [
        "df.tail()"
      ],
      "metadata": {
        "id": "8RX0hnxvmE44"
      },
      "execution_count": null,
      "outputs": []
    },
    {
      "cell_type": "code",
      "source": [
        "df.shape"
      ],
      "metadata": {
        "id": "USFUcOvmmFkc"
      },
      "execution_count": null,
      "outputs": []
    },
    {
      "cell_type": "code",
      "source": [
        "df.columns"
      ],
      "metadata": {
        "id": "sifyn4GnmGhB"
      },
      "execution_count": null,
      "outputs": []
    },
    {
      "cell_type": "code",
      "source": [
        "df.duplicated().sum()"
      ],
      "metadata": {
        "id": "Lq8K9RVPmHbH"
      },
      "execution_count": null,
      "outputs": []
    },
    {
      "cell_type": "code",
      "source": [
        "df.isnull().sum()"
      ],
      "metadata": {
        "id": "MwYMyj_HmKEF"
      },
      "execution_count": null,
      "outputs": []
    },
    {
      "cell_type": "code",
      "source": [
        "df.info()"
      ],
      "metadata": {
        "id": "D_rJGPmemLQ5"
      },
      "execution_count": null,
      "outputs": []
    },
    {
      "cell_type": "code",
      "source": [
        "df.describe()"
      ],
      "metadata": {
        "id": "bE3IFoXcmMw0"
      },
      "execution_count": null,
      "outputs": []
    },
    {
      "cell_type": "code",
      "source": [
        "df.nunique()"
      ],
      "metadata": {
        "id": "sq32BL8jmOgv"
      },
      "execution_count": null,
      "outputs": []
    },
    {
      "cell_type": "code",
      "source": [
        "plt.figure(figsize=(15,6))\n",
        "sns.histplot(df['ph'], bins = 20, kde = True, palette='hls')\n",
        "plt.xticks(rotation = 90)\n",
        "plt.show()"
      ],
      "metadata": {
        "id": "ybk6JxFamQri"
      },
      "execution_count": null,
      "outputs": []
    },
    {
      "cell_type": "code",
      "source": [
        "plt.figure(figsize=(15,6))\n",
        "sns.histplot(df['Sulfate'], bins = 20, kde = True, palette='hls')\n",
        "plt.xticks(rotation = 90)\n",
        "plt.show()"
      ],
      "metadata": {
        "id": "BCHObk2qmTUQ"
      },
      "execution_count": null,
      "outputs": []
    },
    {
      "cell_type": "code",
      "source": [
        "plt.figure(figsize=(15,6))\n",
        "sns.histplot(df['Trihalomethanes'], bins = 20, kde = True, palette='hls')\n",
        "plt.xticks(rotation = 90)\n",
        "plt.show()"
      ],
      "metadata": {
        "id": "FsoHFKPcmUzE"
      },
      "execution_count": null,
      "outputs": []
    },
    {
      "cell_type": "markdown",
      "source": [
        "### data cleaning"
      ],
      "metadata": {
        "id": "glRWy0OGreRr"
      }
    },
    {
      "cell_type": "code",
      "source": [
        "ph_median = df['ph'].median()\n",
        "sulfate_median = df['Sulfate'].median()\n",
        "trihalomethanes_median = df['Trihalomethanes'].median()\n",
        "\n",
        "df['ph'].fillna(ph_median, inplace=True)\n",
        "df['Sulfate'].fillna(sulfate_median, inplace=True)\n",
        "df['Trihalomethanes'].fillna(trihalomethanes_median, inplace=True)"
      ],
      "metadata": {
        "id": "9tmxYwTFmXIM"
      },
      "execution_count": null,
      "outputs": []
    },
    {
      "cell_type": "code",
      "source": [
        "df.isnull().sum()"
      ],
      "metadata": {
        "id": "lp8RGy0Amaie"
      },
      "execution_count": null,
      "outputs": []
    },
    {
      "cell_type": "markdown",
      "source": [
        "#Data Visualization"
      ],
      "metadata": {
        "id": "wWL8BAX2rS4a"
      }
    },
    {
      "cell_type": "markdown",
      "source": [
        "## Univariate analysis"
      ],
      "metadata": {
        "id": "ZXP3THu4rVzu"
      }
    },
    {
      "cell_type": "code",
      "source": [
        "object_columns = df.select_dtypes(include=['object']).columns\n",
        "print(\"Object type columns:\")\n",
        "print(object_columns)\n",
        "\n",
        "numerical_columns = df.select_dtypes(include=['int64', 'float64']).columns\n",
        "print(\"\\nNumerical type columns:\")\n",
        "print(numerical_columns)"
      ],
      "metadata": {
        "id": "03slC0mBmjz3"
      },
      "execution_count": null,
      "outputs": []
    },
    {
      "cell_type": "code",
      "source": [
        "def classify_features(df):\n",
        "    categorical_features = []\n",
        "    non_categorical_features = []\n",
        "    discrete_features = []\n",
        "    continuous_features = []\n",
        "\n",
        "    for column in df.columns:\n",
        "        if df[column].dtype == 'object':\n",
        "            if df[column].nunique() < 10:\n",
        "                categorical_features.append(column)\n",
        "            else:\n",
        "                non_categorical_features.append(column)\n",
        "        elif df[column].dtype in ['int64', 'float64']:\n",
        "            if df[column].nunique() < 15:\n",
        "                discrete_features.append(column)\n",
        "            else:\n",
        "                continuous_features.append(column)\n",
        "\n",
        "    return categorical_features, non_categorical_features, discrete_features, continuous_features"
      ],
      "metadata": {
        "id": "n2tC1L2bmliB"
      },
      "execution_count": null,
      "outputs": []
    },
    {
      "cell_type": "code",
      "source": [
        "categorical, non_categorical, discrete, continuous = classify_features(df)"
      ],
      "metadata": {
        "id": "W5Zg8BAkmnMr"
      },
      "execution_count": null,
      "outputs": []
    },
    {
      "cell_type": "code",
      "source": [
        "print(\"Categorical Features:\", categorical)\n",
        "print(\"Non-Categorical Features:\", non_categorical)\n",
        "print(\"Discrete Features:\", discrete)\n",
        "print(\"Continuous Features:\", continuous)"
      ],
      "metadata": {
        "id": "kcOVjclSmotu"
      },
      "execution_count": null,
      "outputs": []
    },
    {
      "cell_type": "code",
      "source": [
        "for i in discrete:\n",
        "    print(i)\n",
        "    print(df[i].unique())\n",
        "    print()"
      ],
      "metadata": {
        "id": "5xbtgDvjmqP8"
      },
      "execution_count": null,
      "outputs": []
    },
    {
      "cell_type": "code",
      "source": [
        "for i in discrete:\n",
        "    print(df[i].value_counts())\n",
        "    print()"
      ],
      "metadata": {
        "id": "-hR46iJFmsbE"
      },
      "execution_count": null,
      "outputs": []
    },
    {
      "cell_type": "code",
      "source": [
        "for i in discrete:\n",
        "    plt.figure(figsize=(15, 6))\n",
        "    ax = sns.countplot(x=i, data=df, palette='hls')\n",
        "\n",
        "    for p in ax.patches:\n",
        "        height = p.get_height()\n",
        "        ax.annotate(f'{height}',\n",
        "                    xy=(p.get_x() + p.get_width() / 2., height),\n",
        "                    xytext=(0, 10),\n",
        "                    textcoords='offset points',\n",
        "                    ha='center', va='center')\n",
        "\n",
        "    plt.show()"
      ],
      "metadata": {
        "id": "Qvub0M1mmuAL"
      },
      "execution_count": null,
      "outputs": []
    },
    {
      "cell_type": "code",
      "source": [
        "import plotly.express as px\n",
        "\n",
        "for i in discrete:\n",
        "    counts = df[i].value_counts()\n",
        "    fig = px.pie(counts, values=counts.values, names=counts.index, title=f'Distribution of {i}')\n",
        "    fig.show()"
      ],
      "metadata": {
        "id": "yU3JMWaPmvtu"
      },
      "execution_count": null,
      "outputs": []
    },
    {
      "cell_type": "code",
      "source": [
        "for i in continuous:\n",
        "    plt.figure(figsize=(15,6))\n",
        "    sns.histplot(df[i], bins = 20, kde = True, palette='hls')\n",
        "    plt.xticks(rotation = 90)\n",
        "    plt.show()"
      ],
      "metadata": {
        "id": "cjS95kw3mzQ-"
      },
      "execution_count": null,
      "outputs": []
    },
    {
      "cell_type": "code",
      "source": [
        "for i in continuous:\n",
        "    plt.figure(figsize=(15,6))\n",
        "    sns.distplot(df[i], bins = 20, kde = True)\n",
        "    plt.xticks(rotation = 90)\n",
        "    plt.show()"
      ],
      "metadata": {
        "id": "vjuTVaa0nMsT"
      },
      "execution_count": null,
      "outputs": []
    },
    {
      "cell_type": "code",
      "source": [
        "for i in continuous:\n",
        "    plt.figure(figsize=(15, 6))\n",
        "    sns.boxplot(x=i, data=df, palette='hls')\n",
        "    plt.xticks(rotation=90)\n",
        "    plt.show()"
      ],
      "metadata": {
        "id": "9igjW5YVnPYG"
      },
      "execution_count": null,
      "outputs": []
    },
    {
      "cell_type": "markdown",
      "source": [
        "##bivariate analysis"
      ],
      "metadata": {
        "id": "d53clEb-rNOV"
      }
    },
    {
      "cell_type": "code",
      "source": [
        "for i in continuous:\n",
        "    for j in continuous:\n",
        "        if i !=j:\n",
        "            plt.figure(figsize=(15, 6))\n",
        "            sns.scatterplot(x=i, y=j, data=df, palette='hls')\n",
        "            plt.title(f'Scatter plot')\n",
        "            plt.show()"
      ],
      "metadata": {
        "id": "qF1OCE93nSea"
      },
      "execution_count": null,
      "outputs": []
    },
    {
      "cell_type": "code",
      "source": [
        "for cat in discrete:\n",
        "    for cont in continuous:\n",
        "        plt.figure(figsize=(10, 6))\n",
        "        ax = sns.barplot(data=df, x=cat, y=cont, ci=None)\n",
        "        plt.title(f'{cat} vs {cont}')\n",
        "\n",
        "        for p in ax.patches:\n",
        "            height = p.get_height()\n",
        "            ax.annotate(f'{height:.2f}', (p.get_x() + p.get_width() / 2., height),\n",
        "                        ha='center', va='bottom', fontsize=10, color='black', rotation=0)\n",
        "        plt.xticks(rotation = 90)\n",
        "        plt.show()"
      ],
      "metadata": {
        "id": "dWzbPgV6nV4a"
      },
      "execution_count": null,
      "outputs": []
    },
    {
      "cell_type": "code",
      "source": [
        "for cat in discrete:\n",
        "    for cont in continuous:\n",
        "        plt.figure(figsize=(10, 6))\n",
        "        ax = sns.boxplot(data=df, x=cat, y=cont)\n",
        "        plt.title(f'{cat} vs {cont}')\n",
        "\n",
        "\n",
        "        plt.show()"
      ],
      "metadata": {
        "id": "aRko03Zunn9_"
      },
      "execution_count": null,
      "outputs": []
    },
    {
      "cell_type": "code",
      "source": [
        "for cat in discrete:\n",
        "    for cont in continuous:\n",
        "        plt.figure(figsize=(10, 6))\n",
        "        ax = sns.boxenplot(data=df, x=cat, y=cont)\n",
        "        plt.title(f'{cat} vs {cont}')\n",
        "\n",
        "\n",
        "        plt.show()"
      ],
      "metadata": {
        "id": "a00Asa2NnrVk"
      },
      "execution_count": null,
      "outputs": []
    },
    {
      "cell_type": "code",
      "source": [
        "for i in continuous:\n",
        "    for j in continuous:\n",
        "        if i !=j:\n",
        "            plt.figure(figsize=(15, 6))\n",
        "            sns.scatterplot(x=i, y=j, data=df,hue='Potability', palette='hls')\n",
        "            plt.title(f'Scatter plot')\n",
        "            plt.show()"
      ],
      "metadata": {
        "id": "F3xTBVyTnuEx"
      },
      "execution_count": null,
      "outputs": []
    },
    {
      "cell_type": "code",
      "source": [
        "df.columns"
      ],
      "metadata": {
        "id": "D53sfAoNn0dn"
      },
      "execution_count": null,
      "outputs": []
    },
    {
      "cell_type": "code",
      "source": [
        "df1 = df[['ph', 'Hardness', 'Solids', 'Chloramines', 'Sulfate', 'Conductivity','Organic_carbon', 'Trihalomethanes', 'Turbidity']]"
      ],
      "metadata": {
        "id": "nIIuyv-Sn8mQ"
      },
      "execution_count": null,
      "outputs": []
    },
    {
      "cell_type": "code",
      "source": [
        "Q1 = df1.quantile(0.25)\n",
        "Q3 = df1.quantile(0.75)\n",
        "IQR = Q3 - Q1"
      ],
      "metadata": {
        "id": "qjSLMKHpoDwA"
      },
      "execution_count": null,
      "outputs": []
    },
    {
      "cell_type": "code",
      "source": [
        "Q1\n"
      ],
      "metadata": {
        "id": "o25IKscSoGKC"
      },
      "execution_count": null,
      "outputs": []
    },
    {
      "cell_type": "code",
      "source": [
        "  Q3"
      ],
      "metadata": {
        "id": "HeErkYrcoHeI"
      },
      "execution_count": null,
      "outputs": []
    },
    {
      "cell_type": "code",
      "source": [
        "  IQR"
      ],
      "metadata": {
        "id": "_I2WG4zMoJYG"
      },
      "execution_count": null,
      "outputs": []
    },
    {
      "cell_type": "code",
      "source": [
        "  X = Q1 - 1.5 * IQR\n",
        "  Y = Q3 + 1.5 * IQR"
      ],
      "metadata": {
        "id": "MiqnUkJToKrC"
      },
      "execution_count": null,
      "outputs": []
    },
    {
      "cell_type": "code",
      "source": [
        "X"
      ],
      "metadata": {
        "id": "nC5agPvioRBA"
      },
      "execution_count": null,
      "outputs": []
    },
    {
      "cell_type": "code",
      "source": [
        "Y"
      ],
      "metadata": {
        "id": "PfEgLPZtoSBf"
      },
      "execution_count": null,
      "outputs": []
    },
    {
      "cell_type": "code",
      "source": [
        "df2 = df[~((df1 < (Q1 - 1.5 * IQR)) | (df1 > (Q3 + 1.5 * IQR))).any(axis = 1)]"
      ],
      "metadata": {
        "id": "OTznpUmJoSZz"
      },
      "execution_count": null,
      "outputs": []
    },
    {
      "cell_type": "code",
      "source": [
        "df2"
      ],
      "metadata": {
        "id": "63vi5FVRoVh9"
      },
      "execution_count": null,
      "outputs": []
    },
    {
      "cell_type": "code",
      "source": [
        "corr = df2.corr()"
      ],
      "metadata": {
        "id": "o9MecJKvoWzG"
      },
      "execution_count": null,
      "outputs": []
    },
    {
      "cell_type": "code",
      "source": [
        "corr"
      ],
      "metadata": {
        "id": "JcVJpk-EoYpZ"
      },
      "execution_count": null,
      "outputs": []
    },
    {
      "cell_type": "code",
      "source": [
        "plt.figure(figsize=(20,10))\n",
        "sns.heatmap(corr, annot=True, cmap='coolwarm')\n",
        "plt.show()"
      ],
      "metadata": {
        "id": "qwISl0YCoZRr"
      },
      "execution_count": null,
      "outputs": []
    },
    {
      "cell_type": "code",
      "source": [
        "categorical, non_categorical, discrete, continuous = classify_features(df2)"
      ],
      "metadata": {
        "id": "2bPVm8AKobAI"
      },
      "execution_count": null,
      "outputs": []
    },
    {
      "cell_type": "code",
      "source": [
        "print(\"Categorical Features:\", categorical)\n",
        "print(\"Non-Categorical Features:\", non_categorical)\n",
        "print(\"Discrete Features:\", discrete)\n",
        "print(\"Continuous Features:\", continuous)"
      ],
      "metadata": {
        "id": "_LHlBKQGodHG"
      },
      "execution_count": null,
      "outputs": []
    },
    {
      "cell_type": "code",
      "source": [
        "for i in discrete:\n",
        "    counts = df2[i].value_counts()\n",
        "    fig = px.pie(counts, values=counts.values, names=counts.index, title=f'Distribution of {i}')\n",
        "    fig.show()"
      ],
      "metadata": {
        "id": "DsNCG1_DoePP"
      },
      "execution_count": null,
      "outputs": []
    },
    {
      "cell_type": "code",
      "source": [
        "for i in continuous:\n",
        "    plt.figure(figsize=(15,6))\n",
        "    sns.histplot(df[i], bins = 20, kde = True, palette='hls')\n",
        "    plt.xticks(rotation = 90)\n",
        "    plt.show()"
      ],
      "metadata": {
        "id": "qQG3SeHPofky"
      },
      "execution_count": null,
      "outputs": []
    },
    {
      "cell_type": "markdown",
      "source": [
        "# Models training & Testing"
      ],
      "metadata": {
        "id": "W9FnUDKQqw5o"
      }
    },
    {
      "cell_type": "code",
      "source": [
        "X = df2.drop('Potability', axis=1)\n",
        "y = df2['Potability']"
      ],
      "metadata": {
        "id": "wm6KSRceojx9"
      },
      "execution_count": null,
      "outputs": []
    },
    {
      "cell_type": "code",
      "source": [
        "from sklearn.model_selection import train_test_split"
      ],
      "metadata": {
        "id": "CWbQXblzom32"
      },
      "execution_count": null,
      "outputs": []
    },
    {
      "cell_type": "code",
      "source": [
        "X_train, X_test, y_train, y_test = train_test_split(X, y, test_size=0.20, stratify = y,\n",
        "                                                    random_state=42)"
      ],
      "metadata": {
        "id": "ANsZr6XRon71"
      },
      "execution_count": null,
      "outputs": []
    },
    {
      "cell_type": "code",
      "source": [
        "from sklearn.preprocessing import StandardScaler\n",
        "sc = StandardScaler()\n",
        "X_train_sc = sc.fit_transform(X_train)\n",
        "X_test_sc = sc.transform(X_test)"
      ],
      "metadata": {
        "id": "etAGtEEFopFj"
      },
      "execution_count": null,
      "outputs": []
    },
    {
      "cell_type": "code",
      "source": [
        "from imblearn.over_sampling import SMOTE"
      ],
      "metadata": {
        "id": "7gruBz0WoqJj"
      },
      "execution_count": null,
      "outputs": []
    },
    {
      "cell_type": "code",
      "source": [
        "smote = SMOTE(random_state=42)\n",
        "X_train_resampled, y_train_resampled = smote.fit_resample(X_train, y_train)"
      ],
      "metadata": {
        "id": "gniVQbLGorrK"
      },
      "execution_count": null,
      "outputs": []
    },
    {
      "cell_type": "code",
      "source": [
        "from sklearn.linear_model import LogisticRegression\n",
        "from sklearn.metrics import classification_report, accuracy_score"
      ],
      "metadata": {
        "id": "cM3keobEos-F"
      },
      "execution_count": null,
      "outputs": []
    },
    {
      "cell_type": "code",
      "source": [
        "log_reg = LogisticRegression(random_state=42)\n",
        "log_reg.fit(X_train_resampled, y_train_resampled)"
      ],
      "metadata": {
        "id": "HxVSquyzoubQ"
      },
      "execution_count": null,
      "outputs": []
    },
    {
      "cell_type": "code",
      "source": [
        "y_pred = log_reg.predict(X_test)"
      ],
      "metadata": {
        "id": "oe4snkkSovvJ"
      },
      "execution_count": null,
      "outputs": []
    },
    {
      "cell_type": "code",
      "source": [
        "print(\"Logistic Regression:\")\n",
        "print(\"Accuracy:\", accuracy_score(y_test, y_pred))\n",
        "print(classification_report(y_test, y_pred))"
      ],
      "metadata": {
        "id": "RkOAzmGRoxt8"
      },
      "execution_count": null,
      "outputs": []
    },
    {
      "cell_type": "code",
      "source": [
        "from sklearn.svm import SVC"
      ],
      "metadata": {
        "id": "tljXscT1oy6x"
      },
      "execution_count": null,
      "outputs": []
    },
    {
      "cell_type": "code",
      "source": [
        "smote = SMOTE(random_state=42)\n",
        "X_train_resampled_new, y_train_resampled_new = smote.fit_resample(X_train_sc, y_train)"
      ],
      "metadata": {
        "id": "OF5ldf2Uo06K"
      },
      "execution_count": null,
      "outputs": []
    },
    {
      "cell_type": "code",
      "source": [
        "svc = SVC(random_state=42)\n",
        "svc.fit(X_train_resampled_new, y_train_resampled_new)"
      ],
      "metadata": {
        "id": "fvk3YzESo19l"
      },
      "execution_count": null,
      "outputs": []
    },
    {
      "cell_type": "code",
      "source": [
        "y_pred = svc.predict(X_test)"
      ],
      "metadata": {
        "id": "LKnS5meDo3zm"
      },
      "execution_count": null,
      "outputs": []
    },
    {
      "cell_type": "code",
      "source": [
        "print(\"Support Vector Classifier:\")\n",
        "print(\"Accuracy:\", accuracy_score(y_test, y_pred))\n",
        "print(classification_report(y_test, y_pred))"
      ],
      "metadata": {
        "id": "t5B-6Klbo5uu"
      },
      "execution_count": null,
      "outputs": []
    },
    {
      "cell_type": "code",
      "source": [
        "from sklearn.tree import DecisionTreeClassifier"
      ],
      "metadata": {
        "id": "m4fQk_tio60e"
      },
      "execution_count": null,
      "outputs": []
    },
    {
      "cell_type": "code",
      "source": [
        "\n",
        "dtc = DecisionTreeClassifier(random_state=42)\n",
        "dtc.fit(X_train_resampled, y_train_resampled)"
      ],
      "metadata": {
        "id": "y6t4tdJ-o8sB"
      },
      "execution_count": null,
      "outputs": []
    },
    {
      "cell_type": "code",
      "source": [
        "y_pred = dtc.predict(X_test)"
      ],
      "metadata": {
        "id": "cgzlwA5fo--j"
      },
      "execution_count": null,
      "outputs": []
    },
    {
      "cell_type": "code",
      "source": [
        "print(\"Decision Tree Classifier:\")\n",
        "print(\"Accuracy:\", accuracy_score(y_test, y_pred))\n",
        "print(classification_report(y_test, y_pred))"
      ],
      "metadata": {
        "id": "4fpGX4fjpAr1"
      },
      "execution_count": null,
      "outputs": []
    },
    {
      "cell_type": "code",
      "source": [
        "dtc_new = DecisionTreeClassifier(random_state=42)\n",
        "dtc.fit(X_train_resampled_new, y_train_resampled_new)"
      ],
      "metadata": {
        "id": "9LnpXMkNpBtZ"
      },
      "execution_count": null,
      "outputs": []
    },
    {
      "cell_type": "code",
      "source": [
        "from sklearn.model_selection import GridSearchCV"
      ],
      "metadata": {
        "id": "hpOUtB30pDhW"
      },
      "execution_count": null,
      "outputs": []
    },
    {
      "cell_type": "code",
      "source": [
        "param_grid_log_reg = {\n",
        "    'C': [0.1, 1, 10, 100],\n",
        "    'solver': ['liblinear', 'lbfgs']\n",
        "}"
      ],
      "metadata": {
        "id": "3kB6fIqjpEvY"
      },
      "execution_count": null,
      "outputs": []
    },
    {
      "cell_type": "code",
      "source": [
        "log_reg = LogisticRegression(random_state=42)\n",
        "grid_search_log_reg = GridSearchCV(log_reg, param_grid_log_reg, cv=5, scoring='accuracy')\n",
        "grid_search_log_reg.fit(X_train_resampled, y_train_resampled)\n",
        "\n",
        "best_log_reg = grid_search_log_reg.best_estimator_\n",
        "y_pred_log_reg = best_log_reg.predict(X_test)\n",
        "\n",
        "print(\"Best Logistic Regression parameters:\", grid_search_log_reg.best_params_)\n",
        "print(\"Accuracy:\", accuracy_score(y_test, y_pred_log_reg))\n",
        "print(classification_report(y_test, y_pred_log_reg))"
      ],
      "metadata": {
        "id": "Xpp6BgmvpG4R"
      },
      "execution_count": null,
      "outputs": []
    },
    {
      "cell_type": "code",
      "source": [
        "param_grid_dtc = {\n",
        "    'criterion': ['gini', 'entropy'],\n",
        "    'max_depth': [None, 10, 20, 30, 40, 50],\n",
        "    'min_samples_split': [2, 5, 10],\n",
        "    'min_samples_leaf': [1, 2, 4]\n",
        "}"
      ],
      "metadata": {
        "id": "-ytF-tDFpIWt"
      },
      "execution_count": null,
      "outputs": []
    },
    {
      "cell_type": "code",
      "source": [
        "dtc = DecisionTreeClassifier(random_state=42)\n",
        "grid_search_dtc = GridSearchCV(dtc, param_grid_dtc, cv=5, scoring='accuracy')\n",
        "grid_search_dtc.fit(X_train_resampled, y_train_resampled)\n",
        "\n",
        "best_dtc = grid_search_dtc.best_estimator_\n",
        "y_pred_dtc = best_dtc.predict(X_test)\n",
        "\n",
        "print(\"Best Decision Tree parameters:\", grid_search_dtc.best_params_)\n",
        "print(\"Accuracy:\", accuracy_score(y_test, y_pred_dtc))\n",
        "print(classification_report(y_test, y_pred_dtc))"
      ],
      "metadata": {
        "id": "c3cqhkdjpUE-"
      },
      "execution_count": null,
      "outputs": []
    },
    {
      "cell_type": "code",
      "source": [
        "param_grid_svc = {\n",
        "    'C': [0.1, 1, 10, 100],\n",
        "    'gamma': [1, 0.1, 0.01, 0.001],\n",
        "    'kernel': ['linear','poly', 'rbf','sigmoid']\n",
        "}"
      ],
      "metadata": {
        "id": "tVOYPeLVpVYY"
      },
      "execution_count": null,
      "outputs": []
    },
    {
      "cell_type": "code",
      "source": [
        "dtc = DecisionTreeClassifier(random_state=42)\n",
        "grid_search_dtc = GridSearchCV(dtc, param_grid_dtc, cv=5, scoring='accuracy')\n",
        "grid_search_dtc.fit(X_train_resampled, y_train_resampled)\n",
        "\n",
        "best_dtc = grid_search_dtc.best_estimator_\n",
        "y_pred_dtc = best_dtc.predict(X_test)\n",
        "\n",
        "print(\"Best Decision Tree parameters:\", grid_search_dtc.best_params_)\n",
        "print(\"Accuracy:\", accuracy_score(y_test, y_pred_dtc))\n",
        "print(classification_report(y_test, y_pred_dtc))"
      ],
      "metadata": {
        "id": "1nsFnN_Epi-6"
      },
      "execution_count": null,
      "outputs": []
    },
    {
      "cell_type": "code",
      "source": [],
      "metadata": {
        "id": "X7XfVoHnpmUx"
      },
      "execution_count": null,
      "outputs": []
    }
  ]
}